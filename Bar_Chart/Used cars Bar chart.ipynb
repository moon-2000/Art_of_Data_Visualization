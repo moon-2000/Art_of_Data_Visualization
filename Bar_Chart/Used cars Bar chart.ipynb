{
 "cells": [
  {
   "cell_type": "markdown",
   "id": "d59768d1",
   "metadata": {},
   "source": [
    "### Importing the necessary Packages"
   ]
  },
  {
   "cell_type": "code",
   "execution_count": 25,
   "id": "8d5e42a7",
   "metadata": {},
   "outputs": [],
   "source": [
    "import pandas as pd\n",
    "import matplotlib.pyplot as plt\n",
    "import seaborn as sns\n",
    "sns.set()"
   ]
  },
  {
   "cell_type": "markdown",
   "id": "bd2ce1bb",
   "metadata": {},
   "source": [
    "### Importing the DataSet"
   ]
  },
  {
   "cell_type": "code",
   "execution_count": 26,
   "id": "ea4f2ffb",
   "metadata": {},
   "outputs": [
    {
     "data": {
      "text/html": [
       "<div>\n",
       "<style scoped>\n",
       "    .dataframe tbody tr th:only-of-type {\n",
       "        vertical-align: middle;\n",
       "    }\n",
       "\n",
       "    .dataframe tbody tr th {\n",
       "        vertical-align: top;\n",
       "    }\n",
       "\n",
       "    .dataframe thead th {\n",
       "        text-align: right;\n",
       "    }\n",
       "</style>\n",
       "<table border=\"1\" class=\"dataframe\">\n",
       "  <thead>\n",
       "    <tr style=\"text-align: right;\">\n",
       "      <th></th>\n",
       "      <th>Brand</th>\n",
       "      <th>Cars Listings</th>\n",
       "    </tr>\n",
       "  </thead>\n",
       "  <tbody>\n",
       "    <tr>\n",
       "      <th>0</th>\n",
       "      <td>Audi</td>\n",
       "      <td>419</td>\n",
       "    </tr>\n",
       "    <tr>\n",
       "      <th>1</th>\n",
       "      <td>BMW</td>\n",
       "      <td>636</td>\n",
       "    </tr>\n",
       "    <tr>\n",
       "      <th>2</th>\n",
       "      <td>Mercedes-Benz</td>\n",
       "      <td>820</td>\n",
       "    </tr>\n",
       "    <tr>\n",
       "      <th>3</th>\n",
       "      <td>Mitsubishi</td>\n",
       "      <td>306</td>\n",
       "    </tr>\n",
       "    <tr>\n",
       "      <th>4</th>\n",
       "      <td>Renault</td>\n",
       "      <td>438</td>\n",
       "    </tr>\n",
       "    <tr>\n",
       "      <th>5</th>\n",
       "      <td>Toyota</td>\n",
       "      <td>509</td>\n",
       "    </tr>\n",
       "    <tr>\n",
       "      <th>6</th>\n",
       "      <td>Volkswagen</td>\n",
       "      <td>875</td>\n",
       "    </tr>\n",
       "  </tbody>\n",
       "</table>\n",
       "</div>"
      ],
      "text/plain": [
       "           Brand  Cars Listings\n",
       "0           Audi            419\n",
       "1            BMW            636\n",
       "2  Mercedes-Benz            820\n",
       "3     Mitsubishi            306\n",
       "4        Renault            438\n",
       "5         Toyota            509\n",
       "6     Volkswagen            875"
      ]
     },
     "execution_count": 26,
     "metadata": {},
     "output_type": "execute_result"
    }
   ],
   "source": [
    "df_used_cars = pd.read_csv(\"used_cars_data.csv\")\n",
    "df_used_cars"
   ]
  },
  {
   "cell_type": "markdown",
   "id": "b7bf4634",
   "metadata": {},
   "source": [
    "### Creating the Bar Chart"
   ]
  },
  {
   "cell_type": "code",
   "execution_count": 47,
   "id": "28b09f86",
   "metadata": {},
   "outputs": [
    {
     "data": {
      "image/png": "[encoded data removed]",
      "text/plain": [
       "<Figure size 648x432 with 1 Axes>"
      ]
     },
     "metadata": {},
     "output_type": "display_data"
    },
    {
     "data": {
      "text/plain": [
       "<Figure size 432x288 with 0 Axes>"
      ]
     },
     "metadata": {},
     "output_type": "display_data"
    }
   ],
   "source": [
    "# increasing the size/ dimensions of the figure \n",
    "plt.figure(figsize = (9, 6))   \n",
    "\n",
    "# defining bar charts attributes\n",
    "plt.bar( x = df_used_cars[\"Brand\"],\n",
    "         height = df_used_cars[\"Cars Listings\"],\n",
    "         color = 'darkblue', \n",
    "         width = 0.6)\n",
    "\n",
    "# adding a title for the bar chart\n",
    "plt.title(\"Cars Listings by Brand\", fontsize = 16, fontweight = 'bold')\n",
    "\n",
    "# adding axis labels \n",
    "plt.xlabel(\"Brand\", fontsize = 13, fontweight = 'bold')\n",
    "plt.ylabel(\"Cars Listings\", fontsize = 13, fontweight = 'bold')\n",
    "\n",
    "# rotating car brands & increasing y-axis values size for better chart \n",
    "plt.xticks(rotation = 45)\n",
    "plt.yticks(fontsize = 13)\n",
    "\n",
    "# displaying the final bar chart\n",
    "plt.show()\n",
    "\n",
    "# saving the figure\n",
    "plt.savefig(\"Used_cars_Bar_chart\")"
   ]
  },
  {
   "cell_type": "code",
   "execution_count": null,
   "id": "e2c8fe56",
   "metadata": {},
   "outputs": [],
   "source": []
  },
  {
   "cell_type": "code",
   "execution_count": null,
   "id": "9cb1f8b0",
   "metadata": {},
   "outputs": [],
   "source": []
  },
  {
   "cell_type": "code",
   "execution_count": null,
   "id": "fa1707d6",
   "metadata": {},
   "outputs": [],
   "source": []
  }
 ],
 "metadata": {
  "kernelspec": {
   "display_name": "Python 3 (ipykernel)",
   "language": "python",
   "name": "python3"
  },
  "language_info": {
   "codemirror_mode": {
    "name": "ipython",
    "version": 3
   },
   "file_extension": ".py",
   "mimetype": "text/x-python",
   "name": "python",
   "nbconvert_exporter": "python",
   "pygments_lexer": "ipython3",
   "version": "3.9.7"
  }
 },
 "nbformat": 4,
 "nbformat_minor": 5
}
