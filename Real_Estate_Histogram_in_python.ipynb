{
 "cells": [
  {
   "cell_type": "markdown",
   "id": "cb22fa9a",
   "metadata": {},
   "source": [
    "#### Importing the required packages"
   ]
  },
  {
   "cell_type": "code",
   "execution_count": 6,
   "id": "cb247352",
   "metadata": {},
   "outputs": [],
   "source": [
    "import pandas as pd\n",
    "import matplotlib.pyplot as plt\n",
    "import seaborn as sns\n",
    "sns.set()"
   ]
  },
  {
   "cell_type": "markdown",
   "id": "f4b6ad45",
   "metadata": {},
   "source": [
    "#### Importing the data"
   ]
  },
  {
   "cell_type": "code",
   "execution_count": 7,
   "id": "1e4bed7b",
   "metadata": {},
   "outputs": [
    {
     "data": {
      "text/html": [
       "<div>\n",
       "<style scoped>\n",
       "    .dataframe tbody tr th:only-of-type {\n",
       "        vertical-align: middle;\n",
       "    }\n",
       "\n",
       "    .dataframe tbody tr th {\n",
       "        vertical-align: top;\n",
       "    }\n",
       "\n",
       "    .dataframe thead th {\n",
       "        text-align: right;\n",
       "    }\n",
       "</style>\n",
       "<table border=\"1\" class=\"dataframe\">\n",
       "  <thead>\n",
       "    <tr style=\"text-align: right;\">\n",
       "      <th></th>\n",
       "      <th>ID</th>\n",
       "      <th>Building Type</th>\n",
       "      <th>Year of sale</th>\n",
       "      <th>Month of sale</th>\n",
       "      <th>Type of property</th>\n",
       "      <th>Property #</th>\n",
       "      <th>Area (ft.)</th>\n",
       "      <th>Price</th>\n",
       "    </tr>\n",
       "  </thead>\n",
       "  <tbody>\n",
       "    <tr>\n",
       "      <th>0</th>\n",
       "      <td>1030</td>\n",
       "      <td>1</td>\n",
       "      <td>2005.0</td>\n",
       "      <td>11.0</td>\n",
       "      <td>Apartment</td>\n",
       "      <td>30</td>\n",
       "      <td>743.09</td>\n",
       "      <td>246</td>\n",
       "    </tr>\n",
       "    <tr>\n",
       "      <th>1</th>\n",
       "      <td>1029</td>\n",
       "      <td>1</td>\n",
       "      <td>2005.0</td>\n",
       "      <td>10.0</td>\n",
       "      <td>Apartment</td>\n",
       "      <td>29</td>\n",
       "      <td>756.21</td>\n",
       "      <td>246</td>\n",
       "    </tr>\n",
       "    <tr>\n",
       "      <th>2</th>\n",
       "      <td>2002</td>\n",
       "      <td>2</td>\n",
       "      <td>2007.0</td>\n",
       "      <td>7.0</td>\n",
       "      <td>Apartment</td>\n",
       "      <td>2</td>\n",
       "      <td>587.28</td>\n",
       "      <td>209</td>\n",
       "    </tr>\n",
       "    <tr>\n",
       "      <th>3</th>\n",
       "      <td>2031</td>\n",
       "      <td>2</td>\n",
       "      <td>2007.0</td>\n",
       "      <td>12.0</td>\n",
       "      <td>Apartment</td>\n",
       "      <td>31</td>\n",
       "      <td>1604.75</td>\n",
       "      <td>453</td>\n",
       "    </tr>\n",
       "    <tr>\n",
       "      <th>4</th>\n",
       "      <td>1049</td>\n",
       "      <td>1</td>\n",
       "      <td>2004.0</td>\n",
       "      <td>11.0</td>\n",
       "      <td>Apartment</td>\n",
       "      <td>49</td>\n",
       "      <td>1375.45</td>\n",
       "      <td>467</td>\n",
       "    </tr>\n",
       "    <tr>\n",
       "      <th>...</th>\n",
       "      <td>...</td>\n",
       "      <td>...</td>\n",
       "      <td>...</td>\n",
       "      <td>...</td>\n",
       "      <td>...</td>\n",
       "      <td>...</td>\n",
       "      <td>...</td>\n",
       "      <td>...</td>\n",
       "    </tr>\n",
       "    <tr>\n",
       "      <th>262</th>\n",
       "      <td>5044</td>\n",
       "      <td>5</td>\n",
       "      <td>NaN</td>\n",
       "      <td>NaN</td>\n",
       "      <td>Apartment</td>\n",
       "      <td>44</td>\n",
       "      <td>1238.58</td>\n",
       "      <td>323</td>\n",
       "    </tr>\n",
       "    <tr>\n",
       "      <th>263</th>\n",
       "      <td>5047</td>\n",
       "      <td>5</td>\n",
       "      <td>NaN</td>\n",
       "      <td>NaN</td>\n",
       "      <td>Apartment</td>\n",
       "      <td>47</td>\n",
       "      <td>794.52</td>\n",
       "      <td>279</td>\n",
       "    </tr>\n",
       "    <tr>\n",
       "      <th>264</th>\n",
       "      <td>5048</td>\n",
       "      <td>5</td>\n",
       "      <td>NaN</td>\n",
       "      <td>NaN</td>\n",
       "      <td>Apartment</td>\n",
       "      <td>48</td>\n",
       "      <td>1013.27</td>\n",
       "      <td>288</td>\n",
       "    </tr>\n",
       "    <tr>\n",
       "      <th>265</th>\n",
       "      <td>5050</td>\n",
       "      <td>5</td>\n",
       "      <td>NaN</td>\n",
       "      <td>NaN</td>\n",
       "      <td>Apartment</td>\n",
       "      <td>50</td>\n",
       "      <td>1074.71</td>\n",
       "      <td>366</td>\n",
       "    </tr>\n",
       "    <tr>\n",
       "      <th>266</th>\n",
       "      <td>5051</td>\n",
       "      <td>5</td>\n",
       "      <td>NaN</td>\n",
       "      <td>NaN</td>\n",
       "      <td>Apartment</td>\n",
       "      <td>51</td>\n",
       "      <td>789.25</td>\n",
       "      <td>199</td>\n",
       "    </tr>\n",
       "  </tbody>\n",
       "</table>\n",
       "<p>267 rows × 8 columns</p>\n",
       "</div>"
      ],
      "text/plain": [
       "       ID  Building Type  Year of sale  Month of sale Type of property  \\\n",
       "0    1030              1        2005.0           11.0        Apartment   \n",
       "1    1029              1        2005.0           10.0        Apartment   \n",
       "2    2002              2        2007.0            7.0        Apartment   \n",
       "3    2031              2        2007.0           12.0        Apartment   \n",
       "4    1049              1        2004.0           11.0        Apartment   \n",
       "..    ...            ...           ...            ...              ...   \n",
       "262  5044              5           NaN            NaN        Apartment   \n",
       "263  5047              5           NaN            NaN        Apartment   \n",
       "264  5048              5           NaN            NaN        Apartment   \n",
       "265  5050              5           NaN            NaN        Apartment   \n",
       "266  5051              5           NaN            NaN        Apartment   \n",
       "\n",
       "     Property #  Area (ft.)  Price  \n",
       "0            30      743.09    246  \n",
       "1            29      756.21    246  \n",
       "2             2      587.28    209  \n",
       "3            31     1604.75    453  \n",
       "4            49     1375.45    467  \n",
       "..          ...         ...    ...  \n",
       "262          44     1238.58    323  \n",
       "263          47      794.52    279  \n",
       "264          48     1013.27    288  \n",
       "265          50     1074.71    366  \n",
       "266          51      789.25    199  \n",
       "\n",
       "[267 rows x 8 columns]"
      ]
     },
     "execution_count": 7,
     "metadata": {},
     "output_type": "execute_result"
    }
   ],
   "source": [
    "real_estate_data = pd.read_csv(\"real_estate_data.csv\")\n",
    "real_estate_data"
   ]
  },
  {
   "cell_type": "markdown",
   "id": "9cf35b43",
   "metadata": {},
   "source": [
    "#### Creating the Histogram"
   ]
  },
  {
   "cell_type": "code",
   "execution_count": 18,
   "id": "a961d177",
   "metadata": {},
   "outputs": [
    {
     "data": {
      "image/png": "[encoded data removed]",
      "text/plain": [
       "<Figure size 432x288 with 1 Axes>"
      ]
     },
     "metadata": {},
     "output_type": "display_data"
    },
    {
     "data": {
      "text/plain": [
       "<Figure size 648x432 with 0 Axes>"
      ]
     },
     "metadata": {},
     "output_type": "display_data"
    },
    {
     "data": {
      "text/plain": [
       "<Figure size 432x288 with 0 Axes>"
      ]
     },
     "metadata": {},
     "output_type": "display_data"
    }
   ],
   "source": [
    "# defining Histogram attributes\n",
    "plt.hist( x = real_estate_data[\"Price\"],\n",
    "          bins = 8,\n",
    "          color = '#008B8B')\n",
    "\n",
    "# adding a title for the Histogram \n",
    "plt.title(\"Distribution of Real Estate Prices\", fontsize = 16, fontweight = 'bold')\n",
    "\n",
    "# adding axis labels \n",
    "plt.xlabel(\"Price in (000' $)\", fontsize = 13, fontweight = 'bold')\n",
    "plt.ylabel(\"Number of Properties\", fontsize = 13, fontweight = 'bold')\n",
    "\n",
    "# cleaning the background\n",
    "sns.set_style(\"white\")\n",
    "\n",
    "# removing top and right border of the Histogram\n",
    "sns.despine()\n",
    "\n",
    "# increasing the size/ dimensions of the figure \n",
    "plt.figure(figsize = (9, 6))   \n",
    "\n",
    "# displaying the final Histogram\n",
    "plt.show()\n",
    "\n",
    "# saving the figure\n",
    "plt.savefig(\"Distribution of Real Estate Prices\")"
   ]
  },
  {
   "cell_type": "code",
   "execution_count": null,
   "id": "b5cfedf4",
   "metadata": {},
   "outputs": [],
   "source": []
  }
 ],
 "metadata": {
  "kernelspec": {
   "display_name": "Python 3 (ipykernel)",
   "language": "python",
   "name": "python3"
  },
  "language_info": {
   "codemirror_mode": {
    "name": "ipython",
    "version": 3
   },
   "file_extension": ".py",
   "mimetype": "text/x-python",
   "name": "python",
   "nbconvert_exporter": "python",
   "pygments_lexer": "ipython3",
   "version": "3.9.7"
  }
 },
 "nbformat": 4,
 "nbformat_minor": 5
}
